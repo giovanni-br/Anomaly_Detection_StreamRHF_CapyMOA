{
 "cells": [
  {
   "cell_type": "code",
   "execution_count": 1,
   "metadata": {},
   "outputs": [
    {
     "name": "stdout",
     "output_type": "stream",
     "text": [
      "Average AP for each dataset:\n",
      "Dataset\n",
      "abalone         0.236619\n",
      "annthyroid      0.396129\n",
      "kdd_ftp         0.280331\n",
      "magicgamma      0.622756\n",
      "mammography     0.218974\n",
      "mnist           0.302737\n",
      "musk            0.771432\n",
      "satellite       0.593301\n",
      "satimages       0.856195\n",
      "shuttle_odds    0.858153\n",
      "spambase        0.477992\n",
      "thyroid         0.544044\n",
      "Name: AP, dtype: float64\n"
     ]
    }
   ],
   "source": [
    "import pandas as pd\n",
    "\n",
    "# Load the results.csv file\n",
    "results = pd.read_csv('results.csv')\n",
    "\n",
    "# Group by Dataset and calculate the average AP\n",
    "average_ap_per_dataset = results.groupby('Dataset')['AP'].mean()\n",
    "\n",
    "# Display the calculated averages\n",
    "print(\"Average AP for each dataset:\")\n",
    "print(average_ap_per_dataset)\n"
   ]
  }
 ],
 "metadata": {
  "kernelspec": {
   "display_name": "myenv",
   "language": "python",
   "name": "python3"
  },
  "language_info": {
   "codemirror_mode": {
    "name": "ipython",
    "version": 3
   },
   "file_extension": ".py",
   "mimetype": "text/x-python",
   "name": "python",
   "nbconvert_exporter": "python",
   "pygments_lexer": "ipython3",
   "version": "3.12.8"
  }
 },
 "nbformat": 4,
 "nbformat_minor": 2
}
